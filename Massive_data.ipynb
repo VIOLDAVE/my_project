{
  "nbformat": 4,
  "nbformat_minor": 0,
  "metadata": {
    "colab": {
      "provenance": [],
      "authorship_tag": "ABX9TyNpnsxHAC7u6LqSXcF4HPdk",
      "include_colab_link": true
    },
    "kernelspec": {
      "name": "python3",
      "display_name": "Python 3"
    },
    "language_info": {
      "name": "python"
    }
  },
  "cells": [
    {
      "cell_type": "markdown",
      "metadata": {
        "id": "view-in-github",
        "colab_type": "text"
      },
      "source": [
        "<a href=\"https://colab.research.google.com/github/VIOLDAVE/my_project/blob/main/Massive_data.ipynb\" target=\"_parent\"><img src=\"https://colab.research.google.com/assets/colab-badge.svg\" alt=\"Open In Colab\"/></a>"
      ]
    },
    {
      "cell_type": "markdown",
      "source": [],
      "metadata": {
        "id": "9dY0sWM2uhlp"
      }
    },
    {
      "cell_type": "markdown",
      "source": [
        "Project requirement: https://docs.google.com/document/d/1GkK28wOyjTPZEZuOumKPU0z1NzVT_9sxETjPOcLPVYo/edit?tab=t.0#heading=h.qifoo7co6qtd\n",
        "\n",
        "Professor : https://malchiodi.di.unimi.it/teaching/AMD-DSE/2024-25/en"
      ],
      "metadata": {
        "id": "1jlTqLeCltAR"
      }
    },
    {
      "cell_type": "code",
      "execution_count": 6,
      "metadata": {
        "colab": {
          "base_uri": "https://localhost:8080/"
        },
        "id": "n4JVmRCglg7N",
        "outputId": "6c240171-7802-4046-9810-4f296b3bb6a7"
      },
      "outputs": [
        {
          "output_type": "stream",
          "name": "stdout",
          "text": [
            "Cloning into 'my_project'...\n",
            "remote: Enumerating objects: 6, done.\u001b[K\n",
            "remote: Counting objects: 100% (6/6), done.\u001b[K\n",
            "remote: Compressing objects: 100% (5/5), done.\u001b[K\n",
            "remote: Total 6 (delta 0), reused 6 (delta 0), pack-reused 0 (from 0)\u001b[K\n",
            "Receiving objects: 100% (6/6), done.\n"
          ]
        }
      ],
      "source": [
        "import os\n",
        "\n",
        "if not os.path.exists(\"my_project\"):\n",
        "    !git clone https://github.com/VIOLDAVE/my_project.git\n",
        "\n",
        "if os.path.exists(\"my_project\"):\n",
        "    os.chdir(\"my_project\")\n",
        "else:\n",
        "    raise FileNotFoundError(\"Failed to find or clone the 'my_project' directory.\")"
      ]
    }
  ]
}