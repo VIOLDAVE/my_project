{
  "nbformat": 4,
  "nbformat_minor": 0,
  "metadata": {
    "colab": {
      "provenance": [],
      "authorship_tag": "ABX9TyPk0FZgF0UWfgt2cuM7Rw+m",
      "include_colab_link": true
    },
    "kernelspec": {
      "name": "python3",
      "display_name": "Python 3"
    },
    "language_info": {
      "name": "python"
    }
  },
  "cells": [
    {
      "cell_type": "markdown",
      "metadata": {
        "id": "view-in-github",
        "colab_type": "text"
      },
      "source": [
        "<a href=\"https://colab.research.google.com/github/VIOLDAVE/my_project/blob/main/Massive_data.ipynb\" target=\"_parent\"><img src=\"https://colab.research.google.com/assets/colab-badge.svg\" alt=\"Open In Colab\"/></a>"
      ]
    },
    {
      "cell_type": "markdown",
      "source": [],
      "metadata": {
        "id": "9dY0sWM2uhlp"
      }
    },
    {
      "cell_type": "markdown",
      "source": [
        "Project requirement: https://docs.google.com/document/d/1GkK28wOyjTPZEZuOumKPU0z1NzVT_9sxETjPOcLPVYo/edit?tab=t.0#heading=h.qifoo7co6qtd\n",
        "\n",
        "Professor : https://malchiodi.di.unimi.it/teaching/AMD-DSE/2024-25/en"
      ],
      "metadata": {
        "id": "1jlTqLeCltAR"
      }
    },
    {
      "cell_type": "code",
      "execution_count": null,
      "metadata": {
        "colab": {
          "base_uri": "https://localhost:8080/"
        },
        "id": "n4JVmRCglg7N",
        "outputId": "76a08ffe-f28a-402a-e075-735ef4c5bba0"
      },
      "outputs": [
        {
          "output_type": "stream",
          "name": "stdout",
          "text": [
            "Cloning into 'my_project'...\n",
            "remote: Enumerating objects: 12, done.\u001b[K\n",
            "remote: Counting objects: 100% (12/12), done.\u001b[K\n",
            "remote: Compressing objects: 100% (11/11), done.\u001b[K\n",
            "remote: Total 12 (delta 3), reused 4 (delta 0), pack-reused 0 (from 0)\u001b[K\n",
            "Receiving objects: 100% (12/12), done.\n",
            "Resolving deltas: 100% (3/3), done.\n"
          ]
        }
      ],
      "source": [
        "import os\n",
        "\n",
        "if not os.path.exists(\"my_project\"):\n",
        "    !git clone https://github.com/VIOLDAVE/my_project.git\n",
        "\n",
        "if os.path.exists(\"my_project\"):\n",
        "    os.chdir(\"my_project\")\n",
        "else:\n",
        "    raise FileNotFoundError(\"Failed to find or clone the 'my_project' directory.\")"
      ]
    },
    {
      "cell_type": "markdown",
      "source": [
        "Install packages."
      ],
      "metadata": {
        "id": "RHFvE1XowXFM"
      }
    },
    {
      "cell_type": "code",
      "source": [
        "!pip install -r requirement.txt"
      ],
      "metadata": {
        "id": "32iMmIFL04_B",
        "colab": {
          "base_uri": "https://localhost:8080/"
        },
        "outputId": "de5467ca-a548-4b79-b9ff-df98a78f13c5"
      },
      "execution_count": null,
      "outputs": [
        {
          "output_type": "stream",
          "name": "stdout",
          "text": [
            "Requirement already satisfied: kaggle in /usr/local/lib/python3.11/dist-packages (from -r requirement.txt (line 1)) (1.7.4.5)\n",
            "Requirement already satisfied: scikit-learn in /usr/local/lib/python3.11/dist-packages (from -r requirement.txt (line 2)) (1.6.1)\n",
            "Requirement already satisfied: numpy in /usr/local/lib/python3.11/dist-packages (from -r requirement.txt (line 3)) (2.0.2)\n",
            "Requirement already satisfied: pyspark in /usr/local/lib/python3.11/dist-packages (from -r requirement.txt (line 4)) (3.5.1)\n",
            "Requirement already satisfied: nltk in /usr/local/lib/python3.11/dist-packages (from -r requirement.txt (line 5)) (3.9.1)\n",
            "Requirement already satisfied: pandas in /usr/local/lib/python3.11/dist-packages (from -r requirement.txt (line 6)) (2.2.2)\n",
            "Requirement already satisfied: bleach in /usr/local/lib/python3.11/dist-packages (from kaggle->-r requirement.txt (line 1)) (6.2.0)\n",
            "Requirement already satisfied: certifi>=14.05.14 in /usr/local/lib/python3.11/dist-packages (from kaggle->-r requirement.txt (line 1)) (2025.6.15)\n",
            "Requirement already satisfied: charset-normalizer in /usr/local/lib/python3.11/dist-packages (from kaggle->-r requirement.txt (line 1)) (3.4.2)\n",
            "Requirement already satisfied: idna in /usr/local/lib/python3.11/dist-packages (from kaggle->-r requirement.txt (line 1)) (3.10)\n",
            "Requirement already satisfied: protobuf in /usr/local/lib/python3.11/dist-packages (from kaggle->-r requirement.txt (line 1)) (5.29.5)\n",
            "Requirement already satisfied: python-dateutil>=2.5.3 in /usr/local/lib/python3.11/dist-packages (from kaggle->-r requirement.txt (line 1)) (2.9.0.post0)\n",
            "Requirement already satisfied: python-slugify in /usr/local/lib/python3.11/dist-packages (from kaggle->-r requirement.txt (line 1)) (8.0.4)\n",
            "Requirement already satisfied: requests in /usr/local/lib/python3.11/dist-packages (from kaggle->-r requirement.txt (line 1)) (2.32.3)\n",
            "Requirement already satisfied: setuptools>=21.0.0 in /usr/local/lib/python3.11/dist-packages (from kaggle->-r requirement.txt (line 1)) (75.2.0)\n",
            "Requirement already satisfied: six>=1.10 in /usr/local/lib/python3.11/dist-packages (from kaggle->-r requirement.txt (line 1)) (1.17.0)\n",
            "Requirement already satisfied: text-unidecode in /usr/local/lib/python3.11/dist-packages (from kaggle->-r requirement.txt (line 1)) (1.3)\n",
            "Requirement already satisfied: tqdm in /usr/local/lib/python3.11/dist-packages (from kaggle->-r requirement.txt (line 1)) (4.67.1)\n",
            "Requirement already satisfied: urllib3>=1.15.1 in /usr/local/lib/python3.11/dist-packages (from kaggle->-r requirement.txt (line 1)) (2.4.0)\n",
            "Requirement already satisfied: webencodings in /usr/local/lib/python3.11/dist-packages (from kaggle->-r requirement.txt (line 1)) (0.5.1)\n",
            "Requirement already satisfied: scipy>=1.6.0 in /usr/local/lib/python3.11/dist-packages (from scikit-learn->-r requirement.txt (line 2)) (1.15.3)\n",
            "Requirement already satisfied: joblib>=1.2.0 in /usr/local/lib/python3.11/dist-packages (from scikit-learn->-r requirement.txt (line 2)) (1.5.1)\n",
            "Requirement already satisfied: threadpoolctl>=3.1.0 in /usr/local/lib/python3.11/dist-packages (from scikit-learn->-r requirement.txt (line 2)) (3.6.0)\n",
            "Requirement already satisfied: py4j==0.10.9.7 in /usr/local/lib/python3.11/dist-packages (from pyspark->-r requirement.txt (line 4)) (0.10.9.7)\n",
            "Requirement already satisfied: click in /usr/local/lib/python3.11/dist-packages (from nltk->-r requirement.txt (line 5)) (8.2.1)\n",
            "Requirement already satisfied: regex>=2021.8.3 in /usr/local/lib/python3.11/dist-packages (from nltk->-r requirement.txt (line 5)) (2024.11.6)\n",
            "Requirement already satisfied: pytz>=2020.1 in /usr/local/lib/python3.11/dist-packages (from pandas->-r requirement.txt (line 6)) (2025.2)\n",
            "Requirement already satisfied: tzdata>=2022.7 in /usr/local/lib/python3.11/dist-packages (from pandas->-r requirement.txt (line 6)) (2025.2)\n"
          ]
        }
      ]
    },
    {
      "cell_type": "markdown",
      "source": [
        " kaggle  set up and Authentication"
      ],
      "metadata": {
        "id": "1ZAJt1DeWM6F"
      }
    },
    {
      "cell_type": "code",
      "source": [
        "\n"
      ],
      "metadata": {
        "id": "OKuGn4JWoUY6"
      },
      "execution_count": 45,
      "outputs": []
    },
    {
      "cell_type": "code",
      "source": [
        "import json, os\n",
        "from google.colab import files\n",
        "\n",
        "# Upload the file\n",
        "uploaded = files.upload()\n",
        "\n",
        "# Process the uploaded file\n",
        "for fn in uploaded.keys():\n",
        "    print(f'User uploaded file \"{fn}\" with length {len(uploaded[fn])} bytes')\n",
        "\n",
        "    # Read credentials from the uploaded file\n",
        "    with open(fn, 'r') as f:\n",
        "        creds = json.load(f)\n",
        "        os.environ['KAGGLE_USERNAME'] = 'violaawor2'\n",
        "        os.environ['KAGGLE_KEY'] = 'f93b76093cd1863d38f50e4da7642437'\n",
        "\n",
        "    # Move and rename the uploaded file to the correct kaggle.json path\n",
        "    os.makedirs(\"/root/.kaggle\", exist_ok=True)\n",
        "    os.rename(fn, \"/root/.kaggle/kaggle.json\")\n",
        "    os.chmod(\"/root/.kaggle/kaggle.json\", 0o600)\n"
      ],
      "metadata": {
        "colab": {
          "base_uri": "https://localhost:8080/",
          "height": 92
        },
        "id": "Cwgtv5FH0AV-",
        "outputId": "8cc7f62e-6792-4888-9f34-4fa6e2b29af9"
      },
      "execution_count": 42,
      "outputs": [
        {
          "output_type": "display_data",
          "data": {
            "text/plain": [
              "<IPython.core.display.HTML object>"
            ],
            "text/html": [
              "\n",
              "     <input type=\"file\" id=\"files-f4bb566a-de35-4d1c-b872-0c5244a69dbf\" name=\"files[]\" multiple disabled\n",
              "        style=\"border:none\" />\n",
              "     <output id=\"result-f4bb566a-de35-4d1c-b872-0c5244a69dbf\">\n",
              "      Upload widget is only available when the cell has been executed in the\n",
              "      current browser session. Please rerun this cell to enable.\n",
              "      </output>\n",
              "      <script>// Copyright 2017 Google LLC\n",
              "//\n",
              "// Licensed under the Apache License, Version 2.0 (the \"License\");\n",
              "// you may not use this file except in compliance with the License.\n",
              "// You may obtain a copy of the License at\n",
              "//\n",
              "//      http://www.apache.org/licenses/LICENSE-2.0\n",
              "//\n",
              "// Unless required by applicable law or agreed to in writing, software\n",
              "// distributed under the License is distributed on an \"AS IS\" BASIS,\n",
              "// WITHOUT WARRANTIES OR CONDITIONS OF ANY KIND, either express or implied.\n",
              "// See the License for the specific language governing permissions and\n",
              "// limitations under the License.\n",
              "\n",
              "/**\n",
              " * @fileoverview Helpers for google.colab Python module.\n",
              " */\n",
              "(function(scope) {\n",
              "function span(text, styleAttributes = {}) {\n",
              "  const element = document.createElement('span');\n",
              "  element.textContent = text;\n",
              "  for (const key of Object.keys(styleAttributes)) {\n",
              "    element.style[key] = styleAttributes[key];\n",
              "  }\n",
              "  return element;\n",
              "}\n",
              "\n",
              "// Max number of bytes which will be uploaded at a time.\n",
              "const MAX_PAYLOAD_SIZE = 100 * 1024;\n",
              "\n",
              "function _uploadFiles(inputId, outputId) {\n",
              "  const steps = uploadFilesStep(inputId, outputId);\n",
              "  const outputElement = document.getElementById(outputId);\n",
              "  // Cache steps on the outputElement to make it available for the next call\n",
              "  // to uploadFilesContinue from Python.\n",
              "  outputElement.steps = steps;\n",
              "\n",
              "  return _uploadFilesContinue(outputId);\n",
              "}\n",
              "\n",
              "// This is roughly an async generator (not supported in the browser yet),\n",
              "// where there are multiple asynchronous steps and the Python side is going\n",
              "// to poll for completion of each step.\n",
              "// This uses a Promise to block the python side on completion of each step,\n",
              "// then passes the result of the previous step as the input to the next step.\n",
              "function _uploadFilesContinue(outputId) {\n",
              "  const outputElement = document.getElementById(outputId);\n",
              "  const steps = outputElement.steps;\n",
              "\n",
              "  const next = steps.next(outputElement.lastPromiseValue);\n",
              "  return Promise.resolve(next.value.promise).then((value) => {\n",
              "    // Cache the last promise value to make it available to the next\n",
              "    // step of the generator.\n",
              "    outputElement.lastPromiseValue = value;\n",
              "    return next.value.response;\n",
              "  });\n",
              "}\n",
              "\n",
              "/**\n",
              " * Generator function which is called between each async step of the upload\n",
              " * process.\n",
              " * @param {string} inputId Element ID of the input file picker element.\n",
              " * @param {string} outputId Element ID of the output display.\n",
              " * @return {!Iterable<!Object>} Iterable of next steps.\n",
              " */\n",
              "function* uploadFilesStep(inputId, outputId) {\n",
              "  const inputElement = document.getElementById(inputId);\n",
              "  inputElement.disabled = false;\n",
              "\n",
              "  const outputElement = document.getElementById(outputId);\n",
              "  outputElement.innerHTML = '';\n",
              "\n",
              "  const pickedPromise = new Promise((resolve) => {\n",
              "    inputElement.addEventListener('change', (e) => {\n",
              "      resolve(e.target.files);\n",
              "    });\n",
              "  });\n",
              "\n",
              "  const cancel = document.createElement('button');\n",
              "  inputElement.parentElement.appendChild(cancel);\n",
              "  cancel.textContent = 'Cancel upload';\n",
              "  const cancelPromise = new Promise((resolve) => {\n",
              "    cancel.onclick = () => {\n",
              "      resolve(null);\n",
              "    };\n",
              "  });\n",
              "\n",
              "  // Wait for the user to pick the files.\n",
              "  const files = yield {\n",
              "    promise: Promise.race([pickedPromise, cancelPromise]),\n",
              "    response: {\n",
              "      action: 'starting',\n",
              "    }\n",
              "  };\n",
              "\n",
              "  cancel.remove();\n",
              "\n",
              "  // Disable the input element since further picks are not allowed.\n",
              "  inputElement.disabled = true;\n",
              "\n",
              "  if (!files) {\n",
              "    return {\n",
              "      response: {\n",
              "        action: 'complete',\n",
              "      }\n",
              "    };\n",
              "  }\n",
              "\n",
              "  for (const file of files) {\n",
              "    const li = document.createElement('li');\n",
              "    li.append(span(file.name, {fontWeight: 'bold'}));\n",
              "    li.append(span(\n",
              "        `(${file.type || 'n/a'}) - ${file.size} bytes, ` +\n",
              "        `last modified: ${\n",
              "            file.lastModifiedDate ? file.lastModifiedDate.toLocaleDateString() :\n",
              "                                    'n/a'} - `));\n",
              "    const percent = span('0% done');\n",
              "    li.appendChild(percent);\n",
              "\n",
              "    outputElement.appendChild(li);\n",
              "\n",
              "    const fileDataPromise = new Promise((resolve) => {\n",
              "      const reader = new FileReader();\n",
              "      reader.onload = (e) => {\n",
              "        resolve(e.target.result);\n",
              "      };\n",
              "      reader.readAsArrayBuffer(file);\n",
              "    });\n",
              "    // Wait for the data to be ready.\n",
              "    let fileData = yield {\n",
              "      promise: fileDataPromise,\n",
              "      response: {\n",
              "        action: 'continue',\n",
              "      }\n",
              "    };\n",
              "\n",
              "    // Use a chunked sending to avoid message size limits. See b/62115660.\n",
              "    let position = 0;\n",
              "    do {\n",
              "      const length = Math.min(fileData.byteLength - position, MAX_PAYLOAD_SIZE);\n",
              "      const chunk = new Uint8Array(fileData, position, length);\n",
              "      position += length;\n",
              "\n",
              "      const base64 = btoa(String.fromCharCode.apply(null, chunk));\n",
              "      yield {\n",
              "        response: {\n",
              "          action: 'append',\n",
              "          file: file.name,\n",
              "          data: base64,\n",
              "        },\n",
              "      };\n",
              "\n",
              "      let percentDone = fileData.byteLength === 0 ?\n",
              "          100 :\n",
              "          Math.round((position / fileData.byteLength) * 100);\n",
              "      percent.textContent = `${percentDone}% done`;\n",
              "\n",
              "    } while (position < fileData.byteLength);\n",
              "  }\n",
              "\n",
              "  // All done.\n",
              "  yield {\n",
              "    response: {\n",
              "      action: 'complete',\n",
              "    }\n",
              "  };\n",
              "}\n",
              "\n",
              "scope.google = scope.google || {};\n",
              "scope.google.colab = scope.google.colab || {};\n",
              "scope.google.colab._files = {\n",
              "  _uploadFiles,\n",
              "  _uploadFilesContinue,\n",
              "};\n",
              "})(self);\n",
              "</script> "
            ]
          },
          "metadata": {}
        },
        {
          "output_type": "stream",
          "name": "stdout",
          "text": [
            "Saving kaggle_2.json to kaggle_2 (4).json\n",
            "User uploaded file \"kaggle_2 (4).json\" with length 66 bytes\n"
          ]
        }
      ]
    },
    {
      "cell_type": "markdown",
      "source": [
        "dowloading files"
      ],
      "metadata": {
        "id": "fWmVG7a4rLko"
      }
    },
    {
      "cell_type": "code",
      "source": [
        "!kaggle datasets download -d mohamedbakhet/amazon-books-reviews"
      ],
      "metadata": {
        "colab": {
          "base_uri": "https://localhost:8080/"
        },
        "id": "kZQyNBL2qyZ1",
        "outputId": "c5ed2ba3-d208-42b2-adc8-32ed2820a13d"
      },
      "execution_count": 43,
      "outputs": [
        {
          "output_type": "stream",
          "name": "stdout",
          "text": [
            "Dataset URL: https://www.kaggle.com/datasets/mohamedbakhet/amazon-books-reviews\n",
            "License(s): CC0-1.0\n",
            "Downloading amazon-books-reviews.zip to /content\n",
            " 99% 1.05G/1.06G [00:12<00:00, 258MB/s]\n",
            "100% 1.06G/1.06G [00:12<00:00, 94.6MB/s]\n"
          ]
        }
      ]
    },
    {
      "cell_type": "markdown",
      "source": [],
      "metadata": {
        "id": "aevDm3w5rY9H"
      }
    },
    {
      "cell_type": "code",
      "source": [
        "# Load the dataset with spark\n",
        "from pyspark.sql import SparkSession\n",
        "spark = SparkSession.builder.appName(\"JaccardSimilarity\") \\\n",
        "    .master(\"local[*]\") \\\n",
        "    .getOrCreate()\n",
        "books_rating = spark.read.csv(\"/content/data/Books_rating.csv\", header=True, inferSchema=True)"
      ],
      "metadata": {
        "id": "hBLdTQKIrZWf"
      },
      "execution_count": 47,
      "outputs": []
    },
    {
      "cell_type": "markdown",
      "source": [
        "Unzipping file"
      ],
      "metadata": {
        "id": "c0X6eyflsxGw"
      }
    },
    {
      "cell_type": "code",
      "metadata": {
        "colab": {
          "base_uri": "https://localhost:8080/"
        },
        "id": "29490b98",
        "outputId": "ec90c6a2-e312-4d96-bfa2-4e4198e8e5b0"
      },
      "source": [
        "import zipfile\n",
        "import os\n",
        "\n",
        "zip_file_path = \"/content/amazon-books-reviews.zip\"\n",
        "extract_path = \"/content/data\"\n",
        "\n",
        "# Create the extraction directory if it doesn't exist\n",
        "os.makedirs(extract_path, exist_ok=True)\n",
        "\n",
        "# Unzip the file\n",
        "with zipfile.ZipFile(zip_file_path, 'r') as zip_ref:\n",
        "    zip_ref.extractall(extract_path)\n",
        "\n",
        "print(f\"Files extracted to: {extract_path}\")\n",
        "\n",
        "# List the extracted files to confirm\n",
        "!ls /content/data"
      ],
      "execution_count": 46,
      "outputs": [
        {
          "output_type": "stream",
          "name": "stdout",
          "text": [
            "Files extracted to: /content/data\n",
            "books_data.csv\tBooks_rating.csv\n"
          ]
        }
      ]
    },
    {
      "cell_type": "markdown",
      "source": [
        "Loading the dataset"
      ],
      "metadata": {
        "id": "86ILt-CT3USX"
      }
    },
    {
      "cell_type": "code",
      "source": [
        "\n",
        "from pyspark.sql import SparkSession\n",
        "spark = SparkSession.builder.appName(\"JaccardSimilarity\") \\\n",
        "    .master(\"local[*]\") \\\n",
        "    .getOrCreate()\n",
        "books_rating = spark.read.csv(\"/content/data/Books_rating.csv\", header=True, inferSchema=True)"
      ],
      "metadata": {
        "id": "4dAbnN5I3N8U"
      },
      "execution_count": 48,
      "outputs": []
    },
    {
      "cell_type": "markdown",
      "source": [
        "Show a few raws of the dataset"
      ],
      "metadata": {
        "id": "GZ5HFPgh3u_2"
      }
    },
    {
      "cell_type": "code",
      "source": [
        "books_rating.show(5)"
      ],
      "metadata": {
        "colab": {
          "base_uri": "https://localhost:8080/"
        },
        "id": "X0eAgajY3yXX",
        "outputId": "931cd49e-fc26-408e-f96c-e2104c6cc79c"
      },
      "execution_count": 49,
      "outputs": [
        {
          "output_type": "stream",
          "name": "stdout",
          "text": [
            "+----------+--------------------+-----+--------------+--------------------+------------------+------------+-----------+--------------------+--------------------+\n",
            "|        Id|               Title|Price|       User_id|         profileName|review/helpfulness|review/score|review/time|      review/summary|         review/text|\n",
            "+----------+--------------------+-----+--------------+--------------------+------------------+------------+-----------+--------------------+--------------------+\n",
            "|1882931173|Its Only Art If I...| NULL| AVCGYZL8FQQTD|\"Jim of Oz \"\"jim-...|               7/7|         4.0|  940636800|Nice collection o...|This is only for ...|\n",
            "|0826414346|Dr. Seuss: Americ...| NULL|A30TK6U7DNS82R|       Kevin Killian|             10/10|         5.0| 1095724800|   Really Enjoyed It|I don't care much...|\n",
            "|0826414346|Dr. Seuss: Americ...| NULL|A3UH4UZ4RSVO82|        John Granger|             10/11|         5.0| 1078790400|Essential for eve...|\"If people become...|\n",
            "|0826414346|Dr. Seuss: Americ...| NULL|A2MVUWT453QH61|\"Roy E. Perry \"\"a...|               7/7|         4.0| 1090713600|Phlip Nel gives s...|Theodore Seuss Ge...|\n",
            "|0826414346|Dr. Seuss: Americ...| NULL|A22X4XUPKF66MR|\"D. H. Richards \"...|               3/3|         4.0| 1107993600|Good academic ove...|\"Philip Nel - Dr....|\n",
            "+----------+--------------------+-----+--------------+--------------------+------------------+------------+-----------+--------------------+--------------------+\n",
            "only showing top 5 rows\n",
            "\n"
          ]
        }
      ]
    },
    {
      "cell_type": "markdown",
      "source": [
        "creating a sample of dataset becase the file is too heavy for my colab space"
      ],
      "metadata": {
        "id": "_itQjlr433Bd"
      }
    },
    {
      "cell_type": "code",
      "source": [
        "sample = 0.02# can be adjusted as needed"
      ],
      "metadata": {
        "id": "_G19RGI633rI"
      },
      "execution_count": 51,
      "outputs": []
    },
    {
      "cell_type": "code",
      "source": [
        "books_sample = books_rating.sample(fraction=sample, seed=42)\n",
        "books_sample.show(10)\n",
        "size = books_sample.count()"
      ],
      "metadata": {
        "colab": {
          "base_uri": "https://localhost:8080/"
        },
        "id": "8_94ae_l48G9",
        "outputId": "eb32fab1-9943-4720-8bbe-594a1f0e8680"
      },
      "execution_count": 55,
      "outputs": [
        {
          "output_type": "stream",
          "name": "stdout",
          "text": [
            "+----------+--------------------+-----+--------------+--------------------+------------------+------------+-----------+--------------------+--------------------+\n",
            "|        Id|               Title|Price|       User_id|         profileName|review/helpfulness|review/score|review/time|      review/summary|         review/text|\n",
            "+----------+--------------------+-----+--------------+--------------------+------------------+------------+-----------+--------------------+--------------------+\n",
            "|0595344550|Whispers of the W...|10.95| AUR0VA5H0C66C|\"LoveToRead \"\"Act...|               1/2|         1.0| 1119225600|        Buyer beware|\"This is a self-p...|\n",
            "|B000NKGYMK|    Alaska Sourdough| NULL|A258YNWJW2264M|\"Tessa F. Briggs ...|              8/14|         3.0| 1241827200|Not your quick re...|\"After having a c...|\n",
            "|B000NKGYMK|    Alaska Sourdough| NULL|A2WY5VMJQ0MM1A|                 Aoy|               0/0|         5.0| 1351641600|        Old and good|This book is wort...|\n",
            "|157067051X|Voices from the F...| NULL|A1WBUHQIIHUA8O|          L. Maxwell|               1/1|         4.0| 1178496000|Voices from the F...|Gave me a detaile...|\n",
            "|B0007DVHU2|Treat yourself to...| NULL|A1RJD10TTI568L|\"Pieter Uys \"\"Toy...|               4/4|         5.0| 1239321600|Harnessing though...|\"Dr Baker was one...|\n",
            "|0781810698|Beginner's Yoruba...|19.77|A1HHC466MCO9QE|\"ButterflySoulfir...|               7/7|         5.0| 1206057600|Great starting point|\"This book contai...|\n",
            "|0312322291|King James: Belie...| NULL|          NULL|                NULL|               2/2|         5.0| 1118188800|Yo Homie this is ...|\"LeBron James is ...|\n",
            "|B0006D6DRK|Open marriage;: A...| NULL|A3KBF2S2MGN48O|\"T. Thompson \"\"&#...|               2/2|         4.0| 1188604800|A Must Read for a...|This book is a cl...|\n",
            "|0934638160|Grants and Awards...| NULL|          NULL|                NULL|             31/31|         5.0|  950227200|  Worth every penny!|This book offers ...|\n",
            "|0671551345|Night World: Daug...| NULL|          NULL|                NULL|               0/0|         5.0|  889920000|The most charming...|The plot and char...|\n",
            "+----------+--------------------+-----+--------------+--------------------+------------------+------------+-----------+--------------------+--------------------+\n",
            "only showing top 10 rows\n",
            "\n"
          ]
        }
      ]
    },
    {
      "cell_type": "code",
      "source": [
        "size"
      ],
      "metadata": {
        "colab": {
          "base_uri": "https://localhost:8080/"
        },
        "id": "BQhYzI7B5b1F",
        "outputId": "bb623ff2-9143-4d6c-c0b4-05b75d6a4d00"
      },
      "execution_count": 56,
      "outputs": [
        {
          "output_type": "execute_result",
          "data": {
            "text/plain": [
              "60498"
            ]
          },
          "metadata": {},
          "execution_count": 56
        }
      ]
    },
    {
      "cell_type": "markdown",
      "source": [
        "Checking null valuse,. I will use the review column which has strings."
      ],
      "metadata": {
        "id": "e1JQrTWM560x"
      }
    },
    {
      "cell_type": "code",
      "source": [
        "# Checking  for null values in the 'review/text' column\n",
        "null_df = books_rating.filter(\n",
        "    books_rating['review/text'].isNull() | (books_rating['review/text'].rlike('^\\s*$'))\n",
        ")\n",
        "\n",
        "null_df.show(15)\n",
        ""
      ],
      "metadata": {
        "colab": {
          "base_uri": "https://localhost:8080/"
        },
        "id": "NJLfprIv6U-c",
        "outputId": "f9cc1c3a-8425-4858-bff8-529ec95241b0"
      },
      "execution_count": 59,
      "outputs": [
        {
          "output_type": "stream",
          "name": "stdout",
          "text": [
            "+----------+--------------------+--------------------+--------------------+--------------------+--------------------+--------------------+--------------------+--------------------+-----------+\n",
            "|        Id|               Title|               Price|             User_id|         profileName|  review/helpfulness|        review/score|         review/time|      review/summary|review/text|\n",
            "+----------+--------------------+--------------------+--------------------+--------------------+--------------------+--------------------+--------------------+--------------------+-----------+\n",
            "|B00085T7O2|\"\"\"Catch 'em aliv...|\",,ASEH0CVYVGZCZ,...|                 0/1|                 5.0|          1341705600|Fascinating life ...|There are many id...|                NULL|       NULL|\n",
            "|B00085T7O2|\"\"\"Catch 'em aliv...|\",,A91QQ7IYBAK2Q,...| terrible forward...|I found the book ...|                NULL|                NULL|                NULL|                NULL|       NULL|\n",
            "|B0007DMFZS|\"\"\"Beloved friend...|\",,AH9F75LQIKEZH,...|                 0/0|                 5.0|          1268611200|Invaluable path t...|\"There is so much...| An American Busi...|       NULL|\n",
            "|B00085P4PI|\"The child Manuel...|\",,A3HN2H8SWQ9V0Z...|                 1/1|                 5.0|          1106438400|Amazing and touching|This book was sim...|                NULL|       NULL|\n",
            "|B0007EFQHG|\"The Nazi \"\"88\"\" ...|\",,,,1/1,5.0,1127...| easy to read and...| Happy P. Abbott....| of any age will ...|                NULL|                NULL|                NULL|       NULL|\n",
            "|B0007EFQHG|\"The Nazi \"\"88\"\" ...|\",,A24FY5HONGOBA5...|\"\" it fortified m...|                NULL|                NULL|                NULL|                NULL|                NULL|       NULL|\n",
            "|B0008CK87U|\"\"\"Gentlemen pref...|\",,,,3/3,5.0,9070...| a directness tha...|       not a cartoon| and therefore ev...|                NULL|                NULL|                NULL|       NULL|\n",
            "|B000GQK706|The Lord of the R...|                NULL|                NULL|                NULL|                 0/1|                 5.0|           938563200|have only one wor...|       NULL|\n",
            "|B00085MA6E|\"Sins of New York...|\",,AT3NJHZMT67KH,...|   Mediocre Stories\"|I must say that I...|                NULL|                NULL|                NULL|                NULL|       NULL|\n",
            "|096719587X|\"Anabolic Outlaw ...|         pot smoking|    cocaine snorting|        pill popping|       acid dropping|    whiskey drinking| steroid shooting...|                4.95|       NULL|\n",
            "|B0006AIAX8|\"\"\"Shakespeare\"\" ...| the seventeenth ...|\",,A1IZWTVAQVJIFE...| with surprising ...|Looney's double-o...|                NULL|                NULL|                NULL|       NULL|\n",
            "|B0006AIAX8|\"\"\"Shakespeare\"\" ...| the seventeenth ...|\",,A2SBK4UJEMLDPW...| the main thrust ...| the assertion th...| this will change...| now make sense i...|                NULL|       NULL|\n",
            "|B0006AIAX8|\"\"\"Shakespeare\"\" ...| the seventeenth ...|,,A3Q5N4H6DYX2KP,...|                NULL|                NULL|                NULL|                NULL|                NULL|       NULL|\n",
            "|B000I1VJLA|The Lord of the R...|                NULL|                NULL|                NULL|                 0/1|                 5.0|           938563200|have only one wor...|       NULL|\n",
            "|1594860882|Scrawny to Brawny...|               13.18|      A2PZ208GDOIWZM|\"sloth \"\"\\|/ 3Toe...| and are quoted o...| the best site ou...|                NULL|                NULL|       NULL|\n",
            "+----------+--------------------+--------------------+--------------------+--------------------+--------------------+--------------------+--------------------+--------------------+-----------+\n",
            "only showing top 15 rows\n",
            "\n"
          ]
        }
      ]
    },
    {
      "cell_type": "markdown",
      "source": [
        "since there are essentially copies of the'review/text' null entries.\n",
        "\n",
        " Aside from the Title and the IDs, they have the same columns.  A qualitative examination reveals that they are about the same book even though the titles are different."
      ],
      "metadata": {
        "id": "fof3zZqN7PCW"
      }
    },
    {
      "cell_type": "markdown",
      "source": [
        "There are numerous other reviews of Lord of the Rings.  I believe that the NA values should be retained because they cannot be discarded.  The title can also be used as a similarity check."
      ],
      "metadata": {
        "id": "6qeX0MHDAbu_"
      }
    },
    {
      "cell_type": "code",
      "source": [
        "from pyspark.sql.functions import col\n",
        "filter_df = books_rating.filter(\n",
        "    col(\"Title\").contains(\"Lord of the Rings\")\n",
        ").select(\"Title\", \"review/text\").limit(100)\n",
        "\n",
        "# Show the result\n",
        "filter_df.show(100, truncate=True)"
      ],
      "metadata": {
        "colab": {
          "base_uri": "https://localhost:8080/"
        },
        "id": "okOXjXCbAfvQ",
        "outputId": "407a6a98-42ce-44a5-e400-e95d20e26a15"
      },
      "execution_count": 60,
      "outputs": [
        {
          "output_type": "stream",
          "name": "stdout",
          "text": [
            "+--------------------+--------------------+\n",
            "|               Title|         review/text|\n",
            "+--------------------+--------------------+\n",
            "|Myth & Middle-Ear...|&quot;As a long-t...|\n",
            "|Myth & Middle-Ear...|I just finished r...|\n",
            "|Myth & Middle-Ear...|Juggles large num...|\n",
            "|The Lord of the R...|\"I enjoy these ta...|\n",
            "|The Lord of the R...|This drama comes ...|\n",
            "|The Return of the...|Have the Rings fo...|\n",
            "|The Return of the...|I highly recommen...|\n",
            "|Gollum: How We Ma...|\"Andy Serkis is t...|\n",
            "|Gollum: How We Ma...|I guess I'm a bit...|\n",
            "|The Lord of the R...|I've never attemp...|\n",
            "|The Lord of the R...|This is one of th...|\n",
            "|The Lord of the R...|This made an idea...|\n",
            "|The Lord of the R...|This is one hefty...|\n",
            "|The Lord of the R...|This book is a mu...|\n",
            "|The Lord of the R...|This comprehensiv...|\n",
            "|The Lord of the R...|I just got the bo...|\n",
            "|The Lord of the R...|\"Length:: 2:05 Mi...|\n",
            "|The Lord of the R...|\".\"\"...has left t...|\n",
            "|The Lord of the R...|I will not belabo...|\n",
            "|The Lord of the R...|\"It is amazing th...|\n",
            "|The Lord of the R...|\"Wayne G. Hammond...|\n",
            "|The Lord of the R...|The content of th...|\n",
            "|The Lord of the R...|\"Two of the forem...|\n",
            "|The Lord of the R...|\"As the authors p...|\n",
            "|The Lord of the R...|This extensively ...|\n",
            "|The Lord of the R...|\"This is not a bo...|\n",
            "|The Lord of the R...|For the LoTR affi...|\n",
            "|The Lord of the R...|I read the Lord o...|\n",
            "|The Lord of the R...|\"Length:: 0:24 Mi...|\n",
            "|Tolkien Calendar ...|The 50th Annivers...|\n",
            "|Tolkien Calendar ...|\"This is by far t...|\n",
            "|The Lord of the R...|I have seen other...|\n",
            "|The Lord of the R...|I've seen the LOT...|\n",
            "|The Lord of the R...|Wonderful set bou...|\n",
            "|The Lord of the R...|The Lord of the R...|\n",
            "|The Lord of the R...|And it was fun re...|\n",
            "|The Lord of the R...|Nice to have thre...|\n",
            "|The Lord of the R...|This has long bee...|\n",
            "|The Lord of the R...|So much better th...|\n",
            "|The Lord of the R...|If there were ten...|\n",
            "|The Lord of the R...|Classic Tolkien w...|\n",
            "|The Lord of the R...|One does not simp...|\n",
            "|The Lord of the R...|It might be one o...|\n",
            "|The Lord of the R...|I ordered this fr...|\n",
            "|The Lord of the R...|I read these book...|\n",
            "|The Lord of the R...|I loved it, recom...|\n",
            "|The Lord of the R...|I am reviewing on...|\n",
            "|The Lord of the R...|great book in gre...|\n",
            "|The Lord of the R...|This was a nice b...|\n",
            "|The Lord of the R...|Where to start i ...|\n",
            "|The Lord of the R...|I bought this as ...|\n",
            "|The Lord of the R...|There is little p...|\n",
            "|The Lord of the R...|\"Several reviews ...|\n",
            "|The Lord of the R...|I too have read T...|\n",
            "|The Lord of the R...|The LOTR trilogy ...|\n",
            "|The Lord of the R...|Everyone knows th...|\n",
            "|The Lord of the R...|When this edition...|\n",
            "|The Lord of the R...|Well worth the Am...|\n",
            "|The Lord of the R...|This is an incred...|\n",
            "|The Lord of the R...|This book, with i...|\n",
            "|The Lord of the R...|\"A great book for...|\n",
            "|The Lord of the R...|I agree with the ...|\n",
            "|The Lord of the R...|Whereas other rev...|\n",
            "|The Lord of the R...|\"I've been debati...|\n",
            "|The Lord of the R...|Please listen to ...|\n",
            "|The Lord of the R...|\"I love the Lord ...|\n",
            "|The Lord of the R...|Books can change ...|\n",
            "|The Lord of the R...|Regarding the Lea...|\n",
            "|The Lord of the R...|This Millenium Ed...|\n",
            "|The Lord of the R...|What can I say. T...|\n",
            "|The Lord of the R...|If only I could h...|\n",
            "|The Lord of the R...|Though Tolkien wa...|\n",
            "|The Lord of the R...|Yes, of course th...|\n",
            "|The Lord of the R...|Ok so the world i...|\n",
            "|The Lord of the R...|I remember that I...|\n",
            "|The Lord of the R...|I had bought a Lo...|\n",
            "|The Lord of the R...|While both the bo...|\n",
            "|The Lord of the R...|There's not a tim...|\n",
            "|The Lord of the R...|1) Take a year an...|\n",
            "|The Lord of the R...|I love the LOTR t...|\n",
            "|The Lord of the R...|i have several ve...|\n",
            "|The Lord of the R...|The book that is ...|\n",
            "|The Lord of the R...|Great Price. Grea...|\n",
            "|The Lord of the R...|This was an impor...|\n",
            "|The Lord of the R...|I'm only reviewin...|\n",
            "|The Lord of the R...|\"I'm no expert on...|\n",
            "|The Lord of the R...|This is a very go...|\n",
            "|The Lord of the R...|Great book set! V...|\n",
            "|The Lord of the R...|\"I watch the movi...|\n",
            "|The Lord of the R...|Purchased for son...|\n",
            "|The Lord of the R...|\"This was my firs...|\n",
            "|The Lord of the R...|I purchased this ...|\n",
            "|The Lord of the R...|The set of tapes ...|\n",
            "|The Lord of the R...|This is a wonderf...|\n",
            "|The Lord of the R...|i have listened t...|\n",
            "|The Lord of the R...|\"I love the Lord ...|\n",
            "|The Lord of the R...|This book is magn...|\n",
            "|The Lord of the R...|Ok, so I had been...|\n",
            "|The Lord of the R...|I have been a Tol...|\n",
            "|The Lord of the R...|These books are s...|\n",
            "+--------------------+--------------------+\n",
            "\n"
          ]
        }
      ]
    },
    {
      "cell_type": "markdown",
      "source": [],
      "metadata": {
        "id": "VQqnaZkRBJIN"
      }
    },
    {
      "cell_type": "code",
      "source": [
        "# Check for null values in the 'review/text' column\n",
        "Subsample_book = books_sample.filter(\n",
        "    books_sample['review/text'].isNull() | (books_rating_sample['review/text'].rlike('^\\s*$'))\n",
        ")\n",
        "\n",
        "Subsample_book.show(10)"
      ],
      "metadata": {
        "colab": {
          "base_uri": "https://localhost:8080/"
        },
        "id": "iW6xSRe2Beju",
        "outputId": "512b7e31-8773-454a-caa6-c1ec9aaa31c2"
      },
      "execution_count": 63,
      "outputs": [
        {
          "output_type": "stream",
          "name": "stdout",
          "text": [
            "+----------+--------------------+-----+-------+-----------+------------------+------------+-----------+--------------------+-----------+\n",
            "|        Id|               Title|Price|User_id|profileName|review/helpfulness|review/score|review/time|      review/summary|review/text|\n",
            "+----------+--------------------+-----+-------+-----------+------------------+------------+-----------+--------------------+-----------+\n",
            "|B000I1VJLA|The Lord of the R...| NULL|   NULL|       NULL|               0/1|         5.0|  938563200|have only one wor...|       NULL|\n",
            "+----------+--------------------+-----+-------+-----------+------------------+------------+-----------+--------------------+-----------+\n",
            "\n"
          ]
        }
      ]
    }
  ]
}